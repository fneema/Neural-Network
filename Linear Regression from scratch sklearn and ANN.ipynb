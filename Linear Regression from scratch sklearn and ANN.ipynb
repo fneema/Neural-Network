{
 "cells": [
  {
   "cell_type": "markdown",
   "metadata": {},
   "source": [
    "# Linear Regression by scratch approach, sklearn library and Artificial Neural Network using Keras."
   ]
  },
  {
   "cell_type": "markdown",
   "metadata": {},
   "source": [
    "In this notebook, we will briefly discuss  about linear regression and later we will implement this algorithim from scratch, and using scikit learn python library. We will also build an artificial neural network using keras. The main objective of this notebook is to learn how to implement the linear regression algorithm, we are not very concerned about its performance. Before we dive into the implementation, let us first understand the algorithm. The discussion will cover the following:\n",
    "\n",
    "- What is linear regression?\n",
    "- When to use linear regression?\n",
    "- How does linear regression work?\n",
    "\n",
    "\n",
    "**1.  What is linear regression?**\n",
    "\n",
    "Linear regression is a supervised learning algorithm (It learns labelled structured data). \n",
    "\n",
    "It examines the linear relationship between a target (also known as a response or dependent variable) \n",
    "and feature(s) (also known as predictor(s) or independent variable(s)). \n",
    "\n",
    "To understand what a target and a feature is, let us look at the scenario in which we need to examine if body mass index of an adult person is associated with or related to weight and height. In this case, the body mass index is the target, while weight and height are the features. The body mass index depends on the weight and height.  \n",
    "\n",
    "There are two types of linear regression:\n",
    "\n",
    "- Univariate linear regression -  only one feature is used with a target.\n",
    "\n",
    "- Multivariate regression - two or more features are used with a target.\n",
    "\n",
    "\n",
    "**2. When to use linear regression?**\n",
    "\n",
    "Supervised learning algorthims try to solve two types of problems; regression and classification problem. \n",
    "\n",
    "Linear regression, as its name suggests and being a supervised learning algorithm, it analyses regression problems. \n",
    "\n",
    "It predicts a continous target, based on features. Features can be continous or discrete. \n",
    "\n",
    "- Therefore, inorder to use linear regression, it is important to note that the target must be continous.\n",
    "\n",
    "- Some of the advantages of this algorthim are; computationally fast and simple to interpret.\n",
    "\n",
    "- Linear regression assumes that there is a linear relationship between the target and features.\n",
    "\n",
    "- Linear regression will not perform well if the relationship between the target and the features is not linear i.e the prediction of the target will not be good.\n",
    "\n",
    "\n",
    "**How does linear regression work?**\n",
    "\n",
    "In supervised learning, the goal is to fit well a model or an **hypothesis** on a given training dataset, \n",
    "so that this model will later be used to give predictions on a new dataset also known test dataset. \n",
    "\n",
    "Linear regression model or hypothesis takes the following linear form:\n",
    "\n",
    "$$h_\\theta(x) = \\theta_0 + \\theta_1x_1 +\\theta_2x_2+...+\\theta_nx_n$$\n",
    "\n",
    "where;\n",
    "\n",
    "- $h_\\theta(x)$ is the target\n",
    "- $\\theta's$ are weights or parameters\n",
    "- $x's$ are features\n",
    "\n",
    "Now that we have a hypothesis to fit on a training dataset, we need a criterion to evaluates if our hypothesis performs well i.e it can make better predictions of the target. So what is the criterion?\n",
    "\n",
    "The criterion of a linear regression is the **cost function** (also known as the mean square error or loss function). The cost function gives the difference between the values of the actual (also known as real or observed) target and the values of predicted target.\n",
    "\n",
    "The cost function is defined as;\n",
    "\n",
    "$$J(\\theta) = \\frac{1}{2n}\\sum_{i=1}^{n}(h_\\theta(x_i)-y_i)^2$$\n",
    "\n",
    "where;\n",
    "\n",
    "- $n$ is the number of training samples/examples\n",
    "- $h_\\theta(x_i)$ is the $i'th$ predicted value of the target\n",
    "\n",
    "- $y_i$ is the $i'th$ actual value of the target.\n",
    "\n",
    "Now, how do we use this cost function to evaluate our hypothesis? \n",
    "\n",
    "Remember we mentioned above that the cost function gives the difference between the actual values of the target and the predicted values of the target. \n",
    "\n",
    "We need to ask ourselves what will happen when the difference is big or small? The difference being big, implies that the predicted values are very far from the actual values, of which we don't need this. We need the difference to very small, that is close to zero. \n",
    "\n",
    "The measure of the difference of the cost function is determined by its parameters. \n",
    "\n",
    "We should note that parameters are unknown and we need compute them. To find the best parameters that give a small difference or minimizes the cost function, we need a learning algorithim. \n",
    "\n",
    "The most common used learning algorithm is the **Gradient Descent** which is given by\n",
    "\n",
    "$$\\theta_j := \\theta_j - \\alpha \\Delta_\\theta J(\\theta)$$\n",
    "\n",
    "Now, we have all the necessary tools that we need for the implementation of the linear regression. Let's get down to the implementation task using these tools.\n",
    "\n",
    "\n"
   ]
  },
  {
   "cell_type": "markdown",
   "metadata": {},
   "source": [
    "\n"
   ]
  },
  {
   "cell_type": "code",
   "execution_count": null,
   "metadata": {},
   "outputs": [],
   "source": []
  },
  {
   "cell_type": "code",
   "execution_count": 1,
   "metadata": {},
   "outputs": [],
   "source": [
    "#importing libraries\n",
    "import numpy as np\n",
    "import pandas as pd\n",
    "import matplotlib.pyplot as plt\n",
    "from sklearn.model_selection import train_test_split\n",
    "from sklearn.metrics import mean_squared_error\n"
   ]
  },
  {
   "cell_type": "code",
   "execution_count": 2,
   "metadata": {},
   "outputs": [
    {
     "data": {
      "text/html": [
       "<div>\n",
       "<style scoped>\n",
       "    .dataframe tbody tr th:only-of-type {\n",
       "        vertical-align: middle;\n",
       "    }\n",
       "\n",
       "    .dataframe tbody tr th {\n",
       "        vertical-align: top;\n",
       "    }\n",
       "\n",
       "    .dataframe thead th {\n",
       "        text-align: right;\n",
       "    }\n",
       "</style>\n",
       "<table border=\"1\" class=\"dataframe\">\n",
       "  <thead>\n",
       "    <tr style=\"text-align: right;\">\n",
       "      <th></th>\n",
       "      <th>Pregnancies</th>\n",
       "      <th>Glucose</th>\n",
       "      <th>BloodPressure</th>\n",
       "      <th>SkinThickness</th>\n",
       "      <th>Insulin</th>\n",
       "      <th>BMI</th>\n",
       "      <th>DiabetesPedigreeFunction</th>\n",
       "      <th>Age</th>\n",
       "      <th>Outcome</th>\n",
       "    </tr>\n",
       "  </thead>\n",
       "  <tbody>\n",
       "    <tr>\n",
       "      <th>0</th>\n",
       "      <td>6</td>\n",
       "      <td>148</td>\n",
       "      <td>72</td>\n",
       "      <td>35</td>\n",
       "      <td>0</td>\n",
       "      <td>33.6</td>\n",
       "      <td>0.627</td>\n",
       "      <td>50</td>\n",
       "      <td>1</td>\n",
       "    </tr>\n",
       "    <tr>\n",
       "      <th>1</th>\n",
       "      <td>1</td>\n",
       "      <td>85</td>\n",
       "      <td>66</td>\n",
       "      <td>29</td>\n",
       "      <td>0</td>\n",
       "      <td>26.6</td>\n",
       "      <td>0.351</td>\n",
       "      <td>31</td>\n",
       "      <td>0</td>\n",
       "    </tr>\n",
       "    <tr>\n",
       "      <th>2</th>\n",
       "      <td>8</td>\n",
       "      <td>183</td>\n",
       "      <td>64</td>\n",
       "      <td>0</td>\n",
       "      <td>0</td>\n",
       "      <td>23.3</td>\n",
       "      <td>0.672</td>\n",
       "      <td>32</td>\n",
       "      <td>1</td>\n",
       "    </tr>\n",
       "    <tr>\n",
       "      <th>3</th>\n",
       "      <td>1</td>\n",
       "      <td>89</td>\n",
       "      <td>66</td>\n",
       "      <td>23</td>\n",
       "      <td>94</td>\n",
       "      <td>28.1</td>\n",
       "      <td>0.167</td>\n",
       "      <td>21</td>\n",
       "      <td>0</td>\n",
       "    </tr>\n",
       "    <tr>\n",
       "      <th>4</th>\n",
       "      <td>0</td>\n",
       "      <td>137</td>\n",
       "      <td>40</td>\n",
       "      <td>35</td>\n",
       "      <td>168</td>\n",
       "      <td>43.1</td>\n",
       "      <td>2.288</td>\n",
       "      <td>33</td>\n",
       "      <td>1</td>\n",
       "    </tr>\n",
       "    <tr>\n",
       "      <th>...</th>\n",
       "      <td>...</td>\n",
       "      <td>...</td>\n",
       "      <td>...</td>\n",
       "      <td>...</td>\n",
       "      <td>...</td>\n",
       "      <td>...</td>\n",
       "      <td>...</td>\n",
       "      <td>...</td>\n",
       "      <td>...</td>\n",
       "    </tr>\n",
       "    <tr>\n",
       "      <th>763</th>\n",
       "      <td>10</td>\n",
       "      <td>101</td>\n",
       "      <td>76</td>\n",
       "      <td>48</td>\n",
       "      <td>180</td>\n",
       "      <td>32.9</td>\n",
       "      <td>0.171</td>\n",
       "      <td>63</td>\n",
       "      <td>0</td>\n",
       "    </tr>\n",
       "    <tr>\n",
       "      <th>764</th>\n",
       "      <td>2</td>\n",
       "      <td>122</td>\n",
       "      <td>70</td>\n",
       "      <td>27</td>\n",
       "      <td>0</td>\n",
       "      <td>36.8</td>\n",
       "      <td>0.340</td>\n",
       "      <td>27</td>\n",
       "      <td>0</td>\n",
       "    </tr>\n",
       "    <tr>\n",
       "      <th>765</th>\n",
       "      <td>5</td>\n",
       "      <td>121</td>\n",
       "      <td>72</td>\n",
       "      <td>23</td>\n",
       "      <td>112</td>\n",
       "      <td>26.2</td>\n",
       "      <td>0.245</td>\n",
       "      <td>30</td>\n",
       "      <td>0</td>\n",
       "    </tr>\n",
       "    <tr>\n",
       "      <th>766</th>\n",
       "      <td>1</td>\n",
       "      <td>126</td>\n",
       "      <td>60</td>\n",
       "      <td>0</td>\n",
       "      <td>0</td>\n",
       "      <td>30.1</td>\n",
       "      <td>0.349</td>\n",
       "      <td>47</td>\n",
       "      <td>1</td>\n",
       "    </tr>\n",
       "    <tr>\n",
       "      <th>767</th>\n",
       "      <td>1</td>\n",
       "      <td>93</td>\n",
       "      <td>70</td>\n",
       "      <td>31</td>\n",
       "      <td>0</td>\n",
       "      <td>30.4</td>\n",
       "      <td>0.315</td>\n",
       "      <td>23</td>\n",
       "      <td>0</td>\n",
       "    </tr>\n",
       "  </tbody>\n",
       "</table>\n",
       "<p>768 rows × 9 columns</p>\n",
       "</div>"
      ],
      "text/plain": [
       "     Pregnancies  Glucose  BloodPressure  SkinThickness  Insulin   BMI  \\\n",
       "0              6      148             72             35        0  33.6   \n",
       "1              1       85             66             29        0  26.6   \n",
       "2              8      183             64              0        0  23.3   \n",
       "3              1       89             66             23       94  28.1   \n",
       "4              0      137             40             35      168  43.1   \n",
       "..           ...      ...            ...            ...      ...   ...   \n",
       "763           10      101             76             48      180  32.9   \n",
       "764            2      122             70             27        0  36.8   \n",
       "765            5      121             72             23      112  26.2   \n",
       "766            1      126             60              0        0  30.1   \n",
       "767            1       93             70             31        0  30.4   \n",
       "\n",
       "     DiabetesPedigreeFunction  Age  Outcome  \n",
       "0                       0.627   50        1  \n",
       "1                       0.351   31        0  \n",
       "2                       0.672   32        1  \n",
       "3                       0.167   21        0  \n",
       "4                       2.288   33        1  \n",
       "..                        ...  ...      ...  \n",
       "763                     0.171   63        0  \n",
       "764                     0.340   27        0  \n",
       "765                     0.245   30        0  \n",
       "766                     0.349   47        1  \n",
       "767                     0.315   23        0  \n",
       "\n",
       "[768 rows x 9 columns]"
      ]
     },
     "execution_count": 2,
     "metadata": {},
     "output_type": "execute_result"
    }
   ],
   "source": [
    "#Loading data\n",
    "data = pd.read_csv(\"/home/aims/Documents/Kaggle Data/diabetes.csv\")\n",
    "data\n"
   ]
  },
  {
   "cell_type": "code",
   "execution_count": 3,
   "metadata": {
    "scrolled": true
   },
   "outputs": [
    {
     "name": "stdout",
     "output_type": "stream",
     "text": [
      "shape of X:  (768, 8)\n",
      "shape of y:  (768, 1)\n"
     ]
    }
   ],
   "source": [
    "\n",
    "#Input values of features\n",
    "X = data.drop('BMI',1)\n",
    "print('shape of X: ',X.shape)\n",
    "\n",
    "#Output values of features\n",
    "y = data['BMI'].values.reshape(-1,1)\n",
    "print('shape of y: ',y.shape)\n",
    "\n",
    "#splitting data into train and test set\n",
    "x_train,x_test,y_train,y_test = train_test_split(X, y, test_size=0.2, random_state=0)\n"
   ]
  },
  {
   "cell_type": "markdown",
   "metadata": {},
   "source": [
    "# Linear regression from scratch"
   ]
  },
  {
   "cell_type": "code",
   "execution_count": 4,
   "metadata": {},
   "outputs": [],
   "source": [
    "#Define cost fuction\n",
    "#X-input values matrix, y-output value vector, parameter vector\n",
    "\n",
    "def cost_function(X,y,params):\n",
    "    #number of samples\n",
    "    no_samples = len(y)\n",
    "    \n",
    "    #Error- difference between predicted value of y and actual/observed value of value\n",
    "    error = (X@params) - y\n",
    "    \n",
    "    #formula for obtaining the cost\n",
    "    return (1/(2*no_samples))*np.sum(error**2)\n",
    "    \n",
    "    "
   ]
  },
  {
   "cell_type": "code",
   "execution_count": 5,
   "metadata": {},
   "outputs": [],
   "source": [
    "#Define gradient descent\n",
    "def gradient_descent(X, y, params, learning_rate, n_iters):\n",
    "    no_samples = len(y)\n",
    "    \n",
    "    #Track cost in each iteration\n",
    "    cost_track = np.zeros((n_iters,1))\n",
    "    \n",
    "    for i in range(n_iters):\n",
    "        #updating parameters\n",
    "        params = params - (learning_rate/no_samples)* X.T @ (X@params-y)\n",
    "        cost_track[i] = cost_function(X,y,params)\n",
    "    return (cost_track,params)"
   ]
  },
  {
   "cell_type": "code",
   "execution_count": 6,
   "metadata": {},
   "outputs": [],
   "source": [
    "#Normalizing our data/ feature scaling \n",
    "mu = np.mean(x_train,0)\n",
    "sigma = np.std(x_train,0)\n",
    "\n",
    "x_train = (x_train-mu)/sigma\n",
    "\n",
    "#Introducing bias in our input matrix\n",
    "x_train = np.hstack((np.ones((x_train.shape[0],1)),x_train))\n",
    "\n",
    "#Initialising parameters to zeros\n",
    "params = np.zeros((x_train.shape[1],1))\n"
   ]
  },
  {
   "cell_type": "code",
   "execution_count": null,
   "metadata": {},
   "outputs": [],
   "source": []
  },
  {
   "cell_type": "code",
   "execution_count": 28,
   "metadata": {},
   "outputs": [],
   "source": [
    "#Normalising our test set\n",
    "x_test = (x_test-mu)/sigma\n",
    "\n",
    "#Introducing bias to test set\n",
    "x_test = np.hstack((np.ones((x_test.shape[0],1)),x_test))\n",
    "\n",
    "#predicting the y output\n",
    "y_pred = x_test@optimal_parameters\n"
   ]
  },
  {
   "cell_type": "code",
   "execution_count": 29,
   "metadata": {},
   "outputs": [
    {
     "data": {
      "text/plain": [
       "6.861001413749793"
      ]
     },
     "execution_count": 29,
     "metadata": {},
     "output_type": "execute_result"
    }
   ],
   "source": [
    "#Evaluating our model using RMSE\n",
    "rms = np.sqrt(mean_squared_error(y_pred, y_test))\n",
    "rms"
   ]
  },
  {
   "cell_type": "code",
   "execution_count": null,
   "metadata": {},
   "outputs": [],
   "source": []
  },
  {
   "cell_type": "markdown",
   "metadata": {},
   "source": [
    "# Linear regression using sklearn"
   ]
  },
  {
   "cell_type": "code",
   "execution_count": 19,
   "metadata": {},
   "outputs": [],
   "source": [
    "#import Linear regression module\n",
    "from sklearn.linear_model import LinearRegression"
   ]
  },
  {
   "cell_type": "code",
   "execution_count": 22,
   "metadata": {},
   "outputs": [
    {
     "data": {
      "text/plain": [
       "LinearRegression(copy_X=True, fit_intercept=True, n_jobs=None,\n",
       "         normalize=False)"
      ]
     },
     "execution_count": 22,
     "metadata": {},
     "output_type": "execute_result"
    }
   ],
   "source": [
    "#Calling the linear regression function from sklearn\n",
    "model = LinearRegression()\n",
    "\n",
    "#training our model\n",
    "model.fit(x_train,y_train)\n",
    "\n",
    "print('The intercept of the model is: ', model.intercept_)\n",
    "\n",
    "print('The coeffeicient of the model are: ',model.coef_)\n",
    "\n"
   ]
  },
  {
   "cell_type": "code",
   "execution_count": 125,
   "metadata": {},
   "outputs": [],
   "source": [
    "#predicting output value of y\n",
    "y_pred = model.predict(x_test)\n"
   ]
  },
  {
   "cell_type": "code",
   "execution_count": 124,
   "metadata": {},
   "outputs": [
    {
     "data": {
      "text/plain": [
       "6.861001413931367"
      ]
     },
     "execution_count": 124,
     "metadata": {},
     "output_type": "execute_result"
    }
   ],
   "source": [
    "#Evaluating our model using RMSE\n",
    "rms = np.sqrt(mean_squared_error(y_pred, y_test))\n",
    "rms"
   ]
  },
  {
   "cell_type": "code",
   "execution_count": null,
   "metadata": {},
   "outputs": [],
   "source": []
  },
  {
   "cell_type": "markdown",
   "metadata": {},
   "source": [
    "# Linear regression using ANN by keras"
   ]
  },
  {
   "cell_type": "code",
   "execution_count": 3,
   "metadata": {},
   "outputs": [
    {
     "name": "stdout",
     "output_type": "stream",
     "text": [
      "shape of X:  (768, 8)\n",
      "shape of y:  (768, 1)\n"
     ]
    }
   ],
   "source": [
    "#Input values of features\n",
    "X = data.drop('BMI',1)\n",
    "print('shape of X: ',X.shape)\n",
    "\n",
    "#Output values of features\n",
    "y = data['BMI'].values.reshape(-1,1)\n",
    "print('shape of y: ',y.shape)\n",
    "\n",
    "\n"
   ]
  },
  {
   "cell_type": "code",
   "execution_count": 4,
   "metadata": {},
   "outputs": [
    {
     "name": "stderr",
     "output_type": "stream",
     "text": [
      "/usr/lib/python3/dist-packages/sklearn/preprocessing/data.py:323: DataConversionWarning: Data with input dtype int64, float64 were all converted to float64 by MinMaxScaler.\n",
      "  return self.partial_fit(X, y)\n"
     ]
    }
   ],
   "source": [
    "#Performing feature scaling\n",
    "from sklearn.preprocessing import MinMaxScaler\n",
    "\n",
    "scaler_x = MinMaxScaler()\n",
    "X_scaled = scaler_x.fit_transform(X)\n",
    "\n",
    "scaler_y = MinMaxScaler()\n",
    "y_scaled = scaler_y.fit_transform(y)\n"
   ]
  },
  {
   "cell_type": "code",
   "execution_count": 17,
   "metadata": {},
   "outputs": [],
   "source": [
    "#Checking the maximum values of the input features\n",
    "print('Maximum value of each feature',scaler_x.data_max_)\n",
    "#Checking the minimum values of the input features\n",
    "print('Minimum value of each feature', scaler_x.data_min_)\n",
    "\n",
    "#Checking the maximum values of the output\n",
    "print('Maximum value of output',scaler_y.data_max_)\n",
    "#Checking the minimum values of the output\n",
    "print('Minimum value of output', scaler_y.data_min_)\n"
   ]
  },
  {
   "cell_type": "code",
   "execution_count": 16,
   "metadata": {},
   "outputs": [],
   "source": [
    "#Checking to ensure that the values of the scaled features and output are between 0 and 1.\n",
    "print(X_scaled)\n",
    "print(y_scaled)"
   ]
  },
  {
   "cell_type": "markdown",
   "metadata": {},
   "source": [
    "**Training the model**"
   ]
  },
  {
   "cell_type": "code",
   "execution_count": 8,
   "metadata": {},
   "outputs": [],
   "source": [
    "from sklearn.model_selection import train_test_split\n",
    "X_train, X_test, y_train, y_test = train_test_split(X_scaled, y_scaled, test_size = 0.2, random_state=0)"
   ]
  },
  {
   "cell_type": "code",
   "execution_count": 9,
   "metadata": {},
   "outputs": [
    {
     "name": "stdout",
     "output_type": "stream",
     "text": [
      "Model: \"sequential_1\"\n",
      "_________________________________________________________________\n",
      "Layer (type)                 Output Shape              Param #   \n",
      "=================================================================\n",
      "dense_1 (Dense)              (None, 40)                360       \n",
      "_________________________________________________________________\n",
      "dense_2 (Dense)              (None, 40)                1640      \n",
      "_________________________________________________________________\n",
      "dense_3 (Dense)              (None, 1)                 41        \n",
      "=================================================================\n",
      "Total params: 2,041\n",
      "Trainable params: 2,041\n",
      "Non-trainable params: 0\n",
      "_________________________________________________________________\n"
     ]
    },
    {
     "name": "stderr",
     "output_type": "stream",
     "text": [
      "Using TensorFlow backend.\n"
     ]
    }
   ],
   "source": [
    "#tensflow used to build ANN\n",
    "#We can take keras as a function\n",
    "import tensorflow.keras\n",
    "\n",
    "#building model in a sequential form\n",
    "from keras.models import Sequential\n",
    "\n",
    "#for fully connceted ANN(dense)\n",
    "from keras.layers import Dense\n",
    "\n",
    "model = Sequential()\n",
    "#Add first layer, 45=no of neurons, 5=inputs\n",
    "model.add(Dense(40, input_dim=8, activation='relu'))\n",
    "#adding hidden layer\n",
    "model.add(Dense(40, activation='relu'))\n",
    "#adding output layer, 1=output, act=linear becoz we predict continous values\n",
    "model.add(Dense(1, activation='linear'))\n",
    "#Generate table showing description of your ANN\n",
    "model.summary()\n"
   ]
  },
  {
   "cell_type": "code",
   "execution_count": 10,
   "metadata": {},
   "outputs": [
    {
     "name": "stdout",
     "output_type": "stream",
     "text": [
      "WARNING:tensorflow:From /usr/local/lib/python3.7/dist-packages/keras/backend/tensorflow_backend.py:422: The name tf.global_variables is deprecated. Please use tf.compat.v1.global_variables instead.\n",
      "\n",
      "Train on 491 samples, validate on 123 samples\n",
      "Epoch 1/10\n",
      "491/491 [==============================] - 0s 214us/step - loss: 0.1813 - val_loss: 0.0639\n",
      "Epoch 2/10\n",
      "491/491 [==============================] - 0s 15us/step - loss: 0.0355 - val_loss: 0.0220\n",
      "Epoch 3/10\n",
      "491/491 [==============================] - 0s 26us/step - loss: 0.0228 - val_loss: 0.0253\n",
      "Epoch 4/10\n",
      "491/491 [==============================] - 0s 24us/step - loss: 0.0187 - val_loss: 0.0172\n",
      "Epoch 5/10\n",
      "491/491 [==============================] - 0s 19us/step - loss: 0.0152 - val_loss: 0.0161\n",
      "Epoch 6/10\n",
      "491/491 [==============================] - 0s 26us/step - loss: 0.0143 - val_loss: 0.0145\n",
      "Epoch 7/10\n",
      "491/491 [==============================] - 0s 20us/step - loss: 0.0130 - val_loss: 0.0139\n",
      "Epoch 8/10\n",
      "491/491 [==============================] - 0s 18us/step - loss: 0.0124 - val_loss: 0.0132\n",
      "Epoch 9/10\n",
      "491/491 [==============================] - 0s 37us/step - loss: 0.0117 - val_loss: 0.0126\n",
      "Epoch 10/10\n",
      "491/491 [==============================] - 0s 30us/step - loss: 0.0113 - val_loss: 0.0121\n"
     ]
    }
   ],
   "source": [
    "model.compile(optimizer='adam', loss='mean_squared_error')\n",
    "epochs_hist = model.fit(X_train, y_train, epochs=10, batch_size=50,  verbose=1, validation_split=0.2)\n",
    "\n"
   ]
  },
  {
   "cell_type": "markdown",
   "metadata": {},
   "source": [
    "**Evaluating the model**"
   ]
  },
  {
   "cell_type": "code",
   "execution_count": 12,
   "metadata": {},
   "outputs": [
    {
     "name": "stdout",
     "output_type": "stream",
     "text": [
      "dict_keys(['val_loss', 'loss'])\n"
     ]
    },
    {
     "data": {
      "text/plain": [
       "<matplotlib.legend.Legend at 0x7fba804fb860>"
      ]
     },
     "execution_count": 12,
     "metadata": {},
     "output_type": "execute_result"
    },
    {
     "data": {
      "image/png": "[encoded data removed]",
      "text/plain": [
       "<Figure size 432x288 with 1 Axes>"
      ]
     },
     "metadata": {
      "needs_background": "light"
     },
     "output_type": "display_data"
    }
   ],
   "source": [
    "print(epochs_hist.history.keys())\n",
    "plt.plot(epochs_hist.history['loss'])\n",
    "plt.plot(epochs_hist.history['val_loss'])\n",
    "\n",
    "plt.title('Model Loss Progression During Training/Validation')\n",
    "plt.ylabel('Training and Validation Losses')\n",
    "plt.xlabel('Epoch Number')\n",
    "plt.legend(['Training Loss', 'Validation Loss'])\n",
    "\n",
    "\n"
   ]
  },
  {
   "cell_type": "markdown",
   "metadata": {},
   "source": [
    "**Prediction**"
   ]
  },
  {
   "cell_type": "code",
   "execution_count": 15,
   "metadata": {},
   "outputs": [],
   "source": [
    "\n",
    "y_predict_sample = model.predict(X_test)\n",
    "\n",
    "print('Expected measure of BMI=', y_predict_sample)\n",
    "y_predict_sample_original = scaler_y.inverse_transform(y_predict_sample)\n",
    "print('Expected measure of BMI=', y_predict_sample_original)\n"
   ]
  },
  {
   "cell_type": "code",
   "execution_count": 14,
   "metadata": {},
   "outputs": [
    {
     "data": {
      "text/plain": [
       "0.10627072087221504"
      ]
     },
     "execution_count": 14,
     "metadata": {},
     "output_type": "execute_result"
    }
   ],
   "source": [
    "#Evaluating our model using RMSE\n",
    "rms = np.sqrt(mean_squared_error(y_predict_sample, y_test))\n",
    "rms"
   ]
  },
  {
   "cell_type": "code",
   "execution_count": null,
   "metadata": {},
   "outputs": [],
   "source": []
  },
  {
   "cell_type": "markdown",
   "metadata": {},
   "source": [
    "**Linear Regression from scratch using a Class**"
   ]
  },
  {
   "cell_type": "code",
   "execution_count": 85,
   "metadata": {},
   "outputs": [],
   "source": [
    "class LinearRegression:\n",
    "    def __init__(self,learning_rate=0.01, num_iteration=500):\n",
    "        self.learning_rate = learning_rate\n",
    "        self.num_iteration = num_iteration\n",
    "    \n",
    "    def cost_fun(self, X, param,y):\n",
    "        m = len(y)\n",
    "        error = X@param\n",
    "        return (1/(2*m))*np.sum((X@param-y)**2)\n",
    "    \n",
    "    def gradient_descent(self, X, y, param):\n",
    "        #m = len(y)\n",
    "        grad = (1/len(X))* X.T @ (X@param-y)\n",
    "        #print(grad.shape)\n",
    "        return grad\n",
    "    \n",
    "    def fit(self,X,y):\n",
    "        X_copy = X.copy()\n",
    "        mu = np.mean(X_copy,0)\n",
    "        sigma = np.std(X_copy,0)\n",
    "\n",
    "        X_copy = (X_copy-mu)/sigma\n",
    "\n",
    "        X_copy = np.hstack((np.ones((X_copy.shape[0],1)),X_copy))\n",
    "        #print(X_copy.shape)\n",
    "        self.param = np.zeros((X_copy.shape[1],1))\n",
    "        for i in range(self.num_iteration):\n",
    "            #cost = self.cost_fun(X_copy,self.param,y)\n",
    "            grad = self.gradient_descent(X_copy,y, self.param).reshape(-1, 1)\n",
    "            #print(grad.shape)\n",
    "            self.param = self.param-self.learning_rate*grad\n",
    "    def predict(self,X) :\n",
    "        X_test = X.copy()\n",
    "        mu = np.mean(X_test,0)\n",
    "        sigma = np.std(X_test,0)\n",
    "\n",
    "        X_test = (X_test-mu)/sigma\n",
    "\n",
    "        #print(X_test.shape)\n",
    "        X_test = np.hstack((np.ones((X_test.shape[0],1)),X_test))\n",
    "        #print(X_test.shape)\n",
    "        return (X_test@self.param)"
   ]
  },
  {
   "cell_type": "code",
   "execution_count": 86,
   "metadata": {},
   "outputs": [],
   "source": [
    "lr = LinearRegression(learning_rate=0.01, num_iteration=5000)"
   ]
  },
  {
   "cell_type": "code",
   "execution_count": 87,
   "metadata": {},
   "outputs": [],
   "source": [
    "lr.fit(x_train,y_train)"
   ]
  },
  {
   "cell_type": "code",
   "execution_count": 90,
   "metadata": {},
   "outputs": [],
   "source": [
    "#calling prediction function\n",
    "pred  = lr.predict(x_test)\n",
    "\n"
   ]
  },
  {
   "cell_type": "code",
   "execution_count": 89,
   "metadata": {},
   "outputs": [
    {
     "data": {
      "text/plain": [
       "6.890352096087308"
      ]
     },
     "execution_count": 89,
     "metadata": {},
     "output_type": "execute_result"
    }
   ],
   "source": [
    "#Evaluating our model using RMSE\n",
    "rms = np.sqrt(mean_squared_error(pred, y_test))\n",
    "rms"
   ]
  },
  {
   "cell_type": "code",
   "execution_count": null,
   "metadata": {},
   "outputs": [],
   "source": []
  },
  {
   "cell_type": "code",
   "execution_count": null,
   "metadata": {},
   "outputs": [],
   "source": []
  }
 ],
 "metadata": {
  "kernelspec": {
   "display_name": "Python 3",
   "language": "python",
   "name": "python3"
  },
  "language_info": {
   "codemirror_mode": {
    "name": "ipython",
    "version": 3
   },
   "file_extension": ".py",
   "mimetype": "text/x-python",
   "name": "python",
   "nbconvert_exporter": "python",
   "pygments_lexer": "ipython3",
   "version": "3.7.3"
  }
 },
 "nbformat": 4,
 "nbformat_minor": 2
}
